{
 "cells": [
  {
   "cell_type": "markdown",
   "metadata": {},
   "source": [
    "# Assignment 7.2"
   ]
  },
  {
   "cell_type": "markdown",
   "metadata": {},
   "source": [
    "1. What are the three stages to build the hypotheses or model in machine learning?<br>\n",
    "2. What is the standard approach to supervised learning?<br>\n",
    "3. What is Training set and Test set?<br>\n",
    "4. What is the general principle of an ensemble method and what is bagging and\n",
    "boosting in ensemble method?<br>\n",
    "5. How can you avoid overfitting ?"
   ]
  },
  {
   "cell_type": "markdown",
   "metadata": {},
   "source": [
    "<h2>Solution</h2>"
   ]
  },
  {
   "cell_type": "markdown",
   "metadata": {},
   "source": [
    "1. The 3 stages of building a model are:<br>\n",
    "\n",
    "    a. Model building with the training set<br>\n",
    "    b. Model testing with the test set<br>\n",
    "    c. Applying the model on further data<br>\n",
    "<br>\n",
    "2. Supervised learning is machine learning on labelled or classified data. Supervised learning algorithms perform a prediction task on unlabelled data, based on the labelled data. The standard approach to supervised learning is to split the data into training set and test set.\n",
    "<br><br>\n",
    "3. The training set is used to train the model given labelled or identified data. The test set is used to evaluate the performance of the model on unseen data.<br>\n",
    "<br>\n",
    "4. An ensemble method combines results of several different models to give better performance. Bagging, or Bootstrap aggregating, trains models on a random subset of data and then combines weighing each model equally. Boosting trains models to perform better for mis-classified data.\n",
    "<br>\n",
    "<br>\n",
    "5. Some ways to avoid overfitting are to use more data, use ensemble methods, and favour simple models."
   ]
  },
  {
   "cell_type": "code",
   "execution_count": null,
   "metadata": {},
   "outputs": [],
   "source": []
  }
 ],
 "metadata": {
  "kernelspec": {
   "display_name": "Python 3",
   "language": "python",
   "name": "python3"
  },
  "language_info": {
   "codemirror_mode": {
    "name": "ipython",
    "version": 3
   },
   "file_extension": ".py",
   "mimetype": "text/x-python",
   "name": "python",
   "nbconvert_exporter": "python",
   "pygments_lexer": "ipython3",
   "version": "3.5.4"
  }
 },
 "nbformat": 4,
 "nbformat_minor": 2
}
